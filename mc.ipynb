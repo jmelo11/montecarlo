{
 "cells": [
  {
   "cell_type": "code",
   "execution_count": 2,
   "id": "075835f9",
   "metadata": {},
   "outputs": [],
   "source": [
    "import numpy as np"
   ]
  },
  {
   "cell_type": "code",
   "execution_count": 3,
   "id": "12ffd164",
   "metadata": {},
   "outputs": [
    {
     "name": "stdout",
     "output_type": "stream",
     "text": [
      "2.18 s ± 9.85 ms per loop (mean ± std. dev. of 7 runs, 1 loop each)\n"
     ]
    }
   ],
   "source": [
    "%%timeit\n",
    "\n",
    "n_sim = 100_000\n",
    "n_steps = 720\n",
    "dt = 1/360\n",
    "mu = 0.05\n",
    "sigma = 0.2\n",
    "np.random.seed(42)\n",
    "\n",
    "s0 = 100\n",
    "s = np.zeros((n_sim, n_steps))\n",
    "\n",
    "# Generate a random walk\n",
    "for i in range(n_steps):\n",
    "    if i == 0:\n",
    "        s[:, i] = s0\n",
    "    else:\n",
    "        z = np.random.normal(0, 1, n_sim)\n",
    "        s[:, i] = s[:, i-1] * np.exp((mu - 0.5 * sigma**2) * dt + sigma * np.sqrt(dt) * z)"
   ]
  }
 ],
 "metadata": {
  "kernelspec": {
   "display_name": "Python 3",
   "language": "python",
   "name": "python3"
  },
  "language_info": {
   "codemirror_mode": {
    "name": "ipython",
    "version": 3
   },
   "file_extension": ".py",
   "mimetype": "text/x-python",
   "name": "python",
   "nbconvert_exporter": "python",
   "pygments_lexer": "ipython3",
   "version": "3.11.11"
  }
 },
 "nbformat": 4,
 "nbformat_minor": 5
}
